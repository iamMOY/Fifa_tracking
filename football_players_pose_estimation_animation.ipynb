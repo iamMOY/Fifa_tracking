{
 "cells": [
  {
   "cell_type": "code",
   "execution_count": null,
   "metadata": {},
   "outputs": [],
   "source": [
    "FRAME_WIDTH = 1920\n",
    "FRAME_HEIGHT = 1080"
   ]
  },
  {
   "cell_type": "code",
   "execution_count": null,
   "metadata": {},
   "outputs": [],
   "source": [
    "VIEW_X_MIN = - 500\n",
    "VIEW_X_MAX = 500\n",
    "VIEW_Y_MIN = - 500\n",
    "VIEW_Y_MAX = 500\n",
    "VIEW_Z_MIN = 0\n",
    "VIEW_Z_MAX = 1000\n",
    "\n",
    "POSE_ANCHORS = [\n",
    "    [0,1],\n",
    "    [0,2],\n",
    "    [1,3],\n",
    "    [2,4],\n",
    "    [5,6],\n",
    "    [5,7],\n",
    "    [6,8],\n",
    "    [7,9],\n",
    "    [8,10],\n",
    "    [5,11],\n",
    "    [6,12],\n",
    "    [11,12],\n",
    "    [11,13],\n",
    "    [12,14],\n",
    "    [13,15],\n",
    "    [14,16]\n",
    "]"
   ]
  },
  {
   "cell_type": "code",
   "execution_count": null,
   "metadata": {},
   "outputs": [],
   "source": [
    "import os\n",
    "HOME = os.getcwd()\n",
    "print(HOME)"
   ]
  },
  {
   "cell_type": "code",
   "execution_count": null,
   "metadata": {},
   "outputs": [],
   "source": [
    "%cd {HOME}\n",
    "!mkdir extracted_data\n",
    "%cd {HOME}/extracted_data\n",
    "!wget --load-cookies /tmp/cookies.txt \"https://docs.google.com/uc?export=download&confirm=$(wget --quiet --save-cookies /tmp/cookies.txt --keep-session-cookies --no-check-certificate 'https://docs.google.com/uc?export=download&id=16kaI-u0o2jdelM32VUaTlSbwI8VfsB6P' -O- | sed -rn 's/.*confirm=([0-9A-Za-z_]+).*/\\1\\n/p')&id=16kaI-u0o2jdelM32VUaTlSbwI8VfsB6P\" -O pose-estimation-synchronised-sample-a.json && rm -rf /tmp/cookies.txt\n",
    "!wget --load-cookies /tmp/cookies.txt \"https://docs.google.com/uc?export=download&confirm=$(wget --quiet --save-cookies /tmp/cookies.txt --keep-session-cookies -"
   ]
  },
  {
   "cell_type": "code",
   "execution_count": null,
   "metadata": {},
   "outputs": [],
   "source": [
    "EXTRACTED_DATA_A_PATH = f\"{HOME}/extracted_data/pose-estimation-synchronised-sample-a.json\"\n",
    "EXTRACTED_DATA_B_PATH = f\"{HOME}/extracted_data/pose-estimation-synchronised-sample-b.json\""
   ]
  },
  {
   "cell_type": "code",
   "execution_count": null,
   "metadata": {},
   "outputs": [],
   "source": [
    "from dataclasses import dataclass\n",
    "from typing import List\n",
    "\n",
    "import numpy as np\n",
    "\n",
    "import json\n",
    "\n",
    "\n",
    "@dataclass\n",
    "class FrameData:\n",
    "    pose: np.ndarray\n",
    "    detection: np.ndarray\n",
    "\n",
    "\n",
    "def load_json(path: str) -> dict:\n",
    "    with open(path) as f:\n",
    "        contents = f.read()\n",
    "        return json.loads(contents)\n",
    "\n",
    "\n",
    "def load_extracted_data(path: str) -> List[FrameData]:\n",
    "    raw = load_json(path)\n",
    "    return [\n",
    "        FrameData(\n",
    "            pose=entry['pose'],\n",
    "            detection=entry['detection']\n",
    "        )\n",
    "        for entry\n",
    "        in raw\n",
    "    ]"
   ]
  },
  {
   "cell_type": "code",
   "execution_count": null,
   "metadata": {},
   "outputs": [],
   "source": [
    "extracted_data_a = load_extracted_data(EXTRACTED_DATA_A_PATH)\n",
    "extracted_data_b = load_extracted_data(EXTRACTED_DATA_B_PATH)"
   ]
  },
  {
   "cell_type": "code",
   "execution_count": 6,
   "metadata": {},
   "outputs": [],
   "source": [
    "from __future__ import annotations\n",
    "from dataclasses import dataclass\n",
    "from typing import Optional, List, Tuple\n",
    "\n",
    "\n",
    "@dataclass\n",
    "class Pose:\n",
    "    x: np.ndarray\n",
    "    y: np.ndarray\n",
    "    confidence: np.ndarray\n",
    "\n",
    "    @classmethod\n",
    "    def load(cls, data: List[float]) -> Pose:\n",
    "        x, y, confidence = [], [], []\n",
    "        for i in range(17):\n",
    "            x.append(data[7 + i * 3])\n",
    "            y.append(data[7 + i * 3 + 1])\n",
    "            confidence.append(data[7 + i * 3 + 2])\n",
    "        return Pose(\n",
    "            x=np.array(x),\n",
    "            y=np.array(y),\n",
    "            confidence=np.array(confidence)\n",
    "        )\n",
    "\n",
    "\n",
    "@dataclass\n",
    "class Pose3D:\n",
    "    x: np.ndarray\n",
    "    y: np.ndarray\n",
    "    z: np.ndarray\n",
    "\n",
    "    @classmethod\n",
    "    def from2D(cls, pose_a: Pose, pose_b: Pose) -> Pose3D:\n",
    "        return Pose3D(\n",
    "            x=pose_a.x,\n",
    "            y=pose_b.x,\n",
    "            z=pose_a.y\n",
    "        )\n",
    "\n",
    "\n",
    "@dataclass\n",
    "class Point:\n",
    "    x: float\n",
    "    y: float\n",
    "    \n",
    "    @property\n",
    "    def int_xy_tuple(self) -> Tuple[int, int]:\n",
    "        return int(self.x), int(self.y)\n",
    "\n",
    "\n",
    "@dataclass\n",
    "class Point3D:\n",
    "    x: float\n",
    "    y: float\n",
    "    z: float\n",
    "    \n",
    "    @property\n",
    "    def int_xyz_tuple(self) -> Tuple[int, int, int]:\n",
    "        return int(self.x), int(self.y), int(self.z)\n",
    "\n",
    "    @classmethod\n",
    "    def from2D(cls, point_a: Point, point_b: Point) -> Point3D:\n",
    "        return Point3D(\n",
    "            x=point_a.x,\n",
    "            y=point_b.x,\n",
    "            z=point_a.y\n",
    "        )\n",
    "\n",
    "\n",
    "@dataclass\n",
    "class Detection:\n",
    "    x_min: float\n",
    "    y_min: float\n",
    "    x_max: float\n",
    "    y_max: float\n",
    "    confidence: float\n",
    "    class_id: int\n",
    "\n",
    "    @property\n",
    "    def width(self) -> float:\n",
    "        return self.x_max - self.x_min\n",
    "\n",
    "    @property\n",
    "    def height(self) -> float:\n",
    "        return self.y_max - self.y_min\n",
    "\n",
    "    @property\n",
    "    def center(self) -> Point:\n",
    "        return Point(\n",
    "            x=(self.x_min + self.x_max) / 2,\n",
    "            y=(self.y_min + self.y_max) / 2\n",
    "        )\n",
    "\n",
    "    @classmethod\n",
    "    def load(cls, data: List[float]) -> Detection:\n",
    "        return Detection(\n",
    "            x_min=float(data[0]),\n",
    "            y_min=float(data[1]),\n",
    "            x_max=float(data[2]),\n",
    "            y_max=float(data[3]),\n",
    "            confidence=float(data[4]),\n",
    "            class_id=int(data[5])\n",
    "        )\n",
    "\n",
    "    @classmethod\n",
    "    def filter(cls, detections: List[Detection], class_id: int) -> Optional[Detection]:\n",
    "        filtered_detections = [\n",
    "            detection\n",
    "            for detection\n",
    "            in detections\n",
    "            if detection.class_id == class_id\n",
    "        ]\n",
    "        return filtered_detections[0] if len(filtered_detections) == 1 else None"
   ]
  },
  {
   "cell_type": "code",
   "execution_count": null,
   "metadata": {},
   "outputs": [],
   "source": [
    "pose_a = Pose.load(extracted_data_a[0].pose[0])\n"
   ]
  },
  {
   "cell_type": "code",
   "execution_count": null,
   "metadata": {},
   "outputs": [],
   "source": [
    "import matplotlib.pyplot as plt\n",
    "\n",
    "fig = plt.figure(figsize=(20, 12))\n",
    "plt.scatter(pose_a.x, pose_a.y, color=\"red\")\n",
    "plt.xlim([0, FRAME_WIDTH])\n",
    "plt.ylim([0, FRAME_HEIGHT])\n",
    "plt.show()"
   ]
  },
  {
   "cell_type": "code",
   "execution_count": null,
   "metadata": {},
   "outputs": [],
   "source": [
    "pose_b = Pose.load(extracted_data_b[0].pose[0])\n"
   ]
  },
  {
   "cell_type": "code",
   "execution_count": null,
   "metadata": {},
   "outputs": [],
   "source": [
    "import matplotlib.pyplot as plt\n",
    "\n",
    "fig = plt.figure(figsize=(20, 12))\n",
    "plt.scatter(pose_b.x, pose_b.y, color=\"red\")\n",
    "plt.xlim([0, FRAME_WIDTH])\n",
    "plt.ylim([0, FRAME_HEIGHT])\n",
    "plt.show()"
   ]
  },
  {
   "cell_type": "code",
   "execution_count": null,
   "metadata": {},
   "outputs": [],
   "source": [
    "detections = [Detection.load(detection) for detection in extracted_data_a[0].detection]\n",
    "detection_a = Detection.filter(detections, 0)\n",
    "pose_a = Pose.load(extracted_data_a[0].pose[0])\n",
    "BASELINE_HEIGHT_A = detection_a.height\n",
    "BASELINE_VERTICAL_OFFSET_A = detection_a.y_max - pose_a.y.max()\n",
    "print(\"BASELINE_HEIGHT_A\", BASELINE_HEIGHT_A)\n",
    "print(\"BASELINE_VERTICAL_OFFSET_A\", BASELINE_VERTICAL_OFFSET_A)\n",
    "\n",
    "detections = [Detection.load(detection) for detection in extracted_data_b[0].detection]\n",
    "detection_b = Detection.filter(detections, 0)\n",
    "pose_b = Pose.load(extracted_data_b[0].pose[0])\n",
    "BASELINE_VERTICAL_OFFSET_B = detection_b.y_max - pose_b.y.max()\n",
    "BASELINE_HEIGHT_B = detection_b.height\n",
    "print(\"BASELINE_HEIGHT_B\", BASELINE_HEIGHT_B)\n",
    "print(\"BASELINE_VERTICAL_OFFSET_B\", BASELINE_VERTICAL_OFFSET_B)"
   ]
  },
  {
   "cell_type": "code",
   "execution_count": null,
   "metadata": {},
   "outputs": [],
   "source": [
    "from typing import Optional, Tuple\n",
    "\n",
    "\n",
    "def calibrate(\n",
    "    data: FrameData, \n",
    "    frame_height: int, \n",
    "    baseline_pose_height: float,\n",
    "    baseline_vertical_offset: float\n",
    ") -> Optional[Tuple[Pose, Point]]:\n",
    "    detections = [Detection.load(detection) for detection in data.detection]\n",
    "    detection_person = Detection.filter(detections, 0)\n",
    "    detection_ball = Detection.filter(detections, 32)\n",
    "    \n",
    "    if detection_person is None:\n",
    "        return None\n",
    "    if detection_ball is None:\n",
    "        return None\n",
    "    if len(data.pose) != 1:\n",
    "        return None\n",
    "\n",
    "    ball_x, ball_y = detection_ball.center.int_xy_tuple\n",
    "\n",
    "    pose = Pose.load(data.pose[0])\n",
    "    pose.y = frame_height - pose.y\n",
    "    ball_y = frame_height - ball_y\n",
    "\n",
    "    x_shift = (pose.x.max() + pose.x.min()) / 2\n",
    "    y_shift = pose.y.min() - baseline_vertical_offset\n",
    "\n",
    "    pose.x = pose.x - x_shift\n",
    "    ball_x = ball_x - x_shift\n",
    "    pose.y = (pose.y - y_shift) * 1000 / baseline_pose_height\n",
    "    ball_y = (ball_y - y_shift) * 1000 / baseline_pose_height\n",
    "    return pose, Point(x=ball_x, y=ball_y)\n",
    "     "
   ]
  },
  {
   "cell_type": "code",
   "execution_count": null,
   "metadata": {},
   "outputs": [],
   "source": [
    "pose_a, point_a = calibrate(extracted_data_a[0], FRAME_HEIGHT, BASELINE_HEIGHT_A, BASELINE_VERTICAL_OFFSET_A)\n"
   ]
  },
  {
   "cell_type": "code",
   "execution_count": null,
   "metadata": {},
   "outputs": [],
   "source": [
    "import matplotlib.pyplot as plt\n",
    "\n",
    "fig = plt.figure(figsize=(12, 12))\n",
    "plt.scatter(pose_a.x, pose_a.y, color=\"red\")\n",
    "plt.scatter([point_a.x], [point_a.y], color=\"blue\")\n",
    "plt.xlim([VIEW_X_MIN, VIEW_X_MAX])\n",
    "plt.ylim([VIEW_Z_MIN, VIEW_Z_MAX])\n",
    "ax = plt.gca()\n",
    "ax.set_aspect('equal', adjustable='box')\n",
    "plt.show()"
   ]
  },
  {
   "cell_type": "code",
   "execution_count": null,
   "metadata": {},
   "outputs": [],
   "source": [
    "pose_b, point_b = calibrate(extracted_data_b[0], FRAME_HEIGHT, BASELINE_HEIGHT_B, BASELINE_VERTICAL_OFFSET_B)\n"
   ]
  },
  {
   "cell_type": "code",
   "execution_count": null,
   "metadata": {},
   "outputs": [],
   "source": [
    "import matplotlib.pyplot as plt\n",
    "\n",
    "fig = plt.figure(figsize=(12, 12))\n",
    "plt.scatter(pose_b.x, pose_b.y, color=\"red\")\n",
    "plt.scatter([point_b.x], [point_b.y], color=\"blue\")\n",
    "plt.xlim([VIEW_X_MIN, VIEW_X_MAX])\n",
    "plt.ylim([VIEW_Z_MIN, VIEW_Z_MAX])\n",
    "ax = plt.gca()\n",
    "ax.set_aspect('equal', adjustable='box')\n",
    "plt.show()"
   ]
  },
  {
   "cell_type": "code",
   "execution_count": null,
   "metadata": {},
   "outputs": [],
   "source": [
    "pose_a, point_a = calibrate(extracted_data_a[0], FRAME_HEIGHT, BASELINE_HEIGHT_A, BASELINE_VERTICAL_OFFSET_A)\n",
    "pose_b, point_b = calibrate(extracted_data_b[0], FRAME_HEIGHT, BASELINE_HEIGHT_B, BASELINE_VERTICAL_OFFSET_B)\n",
    "\n",
    "pose3d = Pose3D.from2D(pose_a=pose_a, pose_b=pose_b)\n",
    "point3d = Point3D.from2D(point_a=point_a, point_b=point_b)"
   ]
  },
  {
   "cell_type": "code",
   "execution_count": null,
   "metadata": {},
   "outputs": [],
   "source": [
    "from typing import Tuple, List\n",
    "\n",
    "from collections import deque\n",
    "\n",
    "\n",
    "class Trace:\n",
    "\n",
    "    def __init__(self, history: int = 10):\n",
    "        self.x = deque(maxlen=history)\n",
    "        self.y = deque(maxlen=history)\n",
    "        self.z = deque(maxlen=history)\n",
    "\n",
    "    def append(self, x: float, y: float, z: float):\n",
    "        self.x.append(x)\n",
    "        self.y.append(y)\n",
    "        self.z.append(z)\n",
    "\n",
    "    def get_state(self) -> Tuple[List[float], List[float], List[float]]:\n",
    "        return list(self.x), list(self.y), list(self.z)"
   ]
  },
  {
   "cell_type": "code",
   "execution_count": null,
   "metadata": {},
   "outputs": [],
   "source": [
    " from typing import Optional\n",
    "import matplotlib.pyplot as plt\n",
    "import random\n",
    "\n",
    "def draw_3d(\n",
    "    pose3d: Pose3D, \n",
    "    ball3d: Point3D, \n",
    "    angle: int = 0, \n",
    "    save_path: Optional[str] = None, \n",
    "    ball_trace: Optional[Trace] = None,\n",
    "    foot_1_trace: Optional[Trace] = None,\n",
    "    foot_2_trace: Optional[Trace] = None,\n",
    ") -> None:\n",
    "\n",
    "    plt.style.use('dark_background')\n",
    "\n",
    "    fig = plt.figure(figsize=(12, 12))\n",
    "    ax = fig.add_subplot(projection='3d')\n",
    "\n",
    "    ax.xaxis.pane.fill = False\n",
    "    ax.yaxis.pane.fill = False\n",
    "    ax.zaxis.pane.fill = False\n",
    "\n",
    "    ax.axes.set_xlim3d(left=VIEW_X_MIN, right=VIEW_X_MAX)\n",
    "    ax.axes.set_ylim3d(bottom=VIEW_Y_MIN, top=VIEW_Y_MAX) \n",
    "    ax.axes.set_zlim3d(bottom=VIEW_Z_MIN, top=VIEW_Z_MAX)\n",
    "\n",
    "    for pose_anchor in POSE_ANCHORS:\n",
    "        ax.plot(pose3d.x[pose_anchor], pose3d.y[pose_anchor], pose3d.z[pose_anchor], color=\"#ffffff\", linewidth=5)\n",
    "\n",
    "    if ball_trace is not None:\n",
    "        ball_trace_x, ball_trace_y, ball_trace_z = ball_trace.get_state()\n",
    "        ax.plot(ball_trace_x, ball_trace_y, ball_trace_z, color=\"#e84a5f\", linewidth=2)\n",
    "\n",
    "    if foot_1_trace is not None:\n",
    "        foot_1_trace_x, foot_1_trace_y, foot_1_trace_z = foot_1_trace.get_state()\n",
    "        ax.plot(foot_1_trace_x, foot_1_trace_y, foot_1_trace_z, color=\"#fecea8\", linewidth=2)\n",
    "\n",
    "    if foot_2_trace is not None:\n",
    "        foot_2_trace_x, foot_2_trace_y, foot_2_trace_z = foot_2_trace.get_state()\n",
    "        ax.plot(foot_2_trace_x, foot_2_trace_y, foot_2_trace_z, color=\"#fecea8\", linewidth=2)\n",
    "\n",
    "    ax.scatter(pose3d.x, pose3d.y, pose3d.z, color=\"#ffffff\")\n",
    "    ax.scatter(ball3d.x, ball3d.y, ball3d.z, color=\"#e84a5f\", s=500)\n",
    "    ax.view_init(30, 45 + angle*2)\n",
    "\n",
    "    if save_path is None:\n",
    "        plt.show()\n",
    "    else:\n",
    "        plt.savefig(save_path)\n",
    "        plt.close(fig)"
   ]
  },
  {
   "cell_type": "code",
   "execution_count": null,
   "metadata": {},
   "outputs": [],
   "source": [
    "draw_3d(pose3d, point3d)\n"
   ]
  },
  {
   "cell_type": "code",
   "execution_count": null,
   "metadata": {},
   "outputs": [],
   "source": [
    "pose_a, point_a = calibrate(extracted_data_a[320], FRAME_HEIGHT, BASELINE_HEIGHT_A, BASELINE_VERTICAL_OFFSET_A)\n",
    "pose_b, point_b = calibrate(extracted_data_b[320], FRAME_HEIGHT, BASELINE_HEIGHT_B, BASELINE_VERTICAL_OFFSET_B)\n",
    "\n",
    "pose3d = Pose3D.from2D(pose_a=pose_a, pose_b=pose_b)\n",
    "point3d = Point3D.from2D(point_a=point_a, point_b=point_b)\n",
    "\n",
    "draw_3d(pose3d, point3d, 60)"
   ]
  },
  {
   "cell_type": "code",
   "execution_count": null,
   "metadata": {},
   "outputs": [],
   "source": [
    "OUTPUT_DIR = \"frames\"\n"
   ]
  },
  {
   "cell_type": "code",
   "execution_count": null,
   "metadata": {},
   "outputs": [],
   "source": [
    "%cd {HOME}\n",
    "!mkdir -p $OUTPUT_DIR"
   ]
  },
  {
   "cell_type": "code",
   "execution_count": null,
   "metadata": {},
   "outputs": [],
   "source": [
    "from tqdm.notebook import trange\n",
    "\n",
    "\n",
    "def generate_frames(start=0, end=100):\n",
    "    ball_trace = Trace(20)\n",
    "    foot_1_trace = Trace(10)\n",
    "    foot_2_trace = Trace(10)\n",
    "    for i in trange(start, end):\n",
    "        a = calibrate(extracted_data_a[i], FRAME_HEIGHT, BASELINE_HEIGHT_A, BASELINE_VERTICAL_OFFSET_A)\n",
    "        b = calibrate(extracted_data_b[i], FRAME_HEIGHT, BASELINE_HEIGHT_B, BASELINE_VERTICAL_OFFSET_B)\n",
    "\n",
    "        if a is None or b is None:\n",
    "            continue\n",
    "\n",
    "        pose_a, point_a = a\n",
    "        pose_b, point_b = b\n",
    "\n",
    "        pose3d = Pose3D.from2D(pose_a=pose_a, pose_b=pose_b)\n",
    "        point3d = Point3D.from2D(point_a=point_a, point_b=point_b)\n",
    "        ball_trace.append(x=point3d.x, y=point3d.y, z=point3d.z)\n",
    "        foot_1_trace.append(x=pose3d.x[-1], y=pose3d.y[-1], z=pose3d.z[-1])\n",
    "        foot_2_trace.append(x=pose3d.x[-2], y=pose3d.y[-2], z=pose3d.z[-2])\n",
    "\n",
    "        file_name = \"file%04d.png\" % i\n",
    "        draw_3d(pose3d, point3d, angle=i // 2, save_path=f\"{HOME}/{OUTPUT_DIR}/{file_name}\", ball_trace=ball_trace, foot_1_trace=foot_1_tr"
   ]
  },
  {
   "cell_type": "code",
   "execution_count": null,
   "metadata": {},
   "outputs": [],
   "source": [
    "generate_frames(0, len(extracted_data_a))\n"
   ]
  },
  {
   "cell_type": "code",
   "execution_count": null,
   "metadata": {},
   "outputs": [],
   "source": [
    "!ffmpeg -framerate 25 -pattern_type glob -i 'frames/*.png' -c:v libx264 -pix_fmt yuv420p out.mp4\n"
   ]
  },
  {
   "cell_type": "code",
   "execution_count": null,
   "metadata": {},
   "outputs": [],
   "source": [
    "!rm -rf frames\n",
    "!rm -rf out.mp4\n"
   ]
  }
 ],
 "metadata": {
  "kernelspec": {
   "display_name": "pytorch",
   "language": "python",
   "name": "python3"
  },
  "language_info": {
   "codemirror_mode": {
    "name": "ipython",
    "version": 3
   },
   "file_extension": ".py",
   "mimetype": "text/x-python",
   "name": "python",
   "nbconvert_exporter": "python",
   "pygments_lexer": "ipython3",
   "version": "3.10.8"
  },
  "orig_nbformat": 4,
  "vscode": {
   "interpreter": {
    "hash": "47754cd3d5cc39ae07e03ddbfc49b120499a3234facacb077b7bd5eb1a4e0d9f"
   }
  }
 },
 "nbformat": 4,
 "nbformat_minor": 2
}
